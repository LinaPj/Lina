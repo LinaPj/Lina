{
 "cells": [
  {
   "cell_type": "markdown",
   "id": "4e886daa",
   "metadata": {},
   "source": [
    "# Write a python class named Point3D defined by x, y, and z. Define a method that returns (x, y ,z). \n",
    "#This tells Python to represent this object in the following format: (x, y, z). Then create a variable named my_point #containing a\n",
    "\n",
    "   # new instance of Point3D with x=1, y=2, and z=3 and print it."
   ]
  },
  {
   "cell_type": "code",
   "execution_count": 8,
   "id": "84e31ddf",
   "metadata": {},
   "outputs": [
    {
     "name": "stdout",
     "output_type": "stream",
     "text": [
      "(1, 2, 3)\n"
     ]
    }
   ],
   "source": [
    "class Point3D:\n",
    "    \n",
    "    def __init__(self,x,y,z):\n",
    "        self.x=x\n",
    "        self.y=y\n",
    "        self.z=z\n",
    "        \n",
    "        \n",
    "    def my_point(self):\n",
    "        return self.x,self.y,self.z\n",
    "        \n",
    "    \n",
    "    \n",
    "        \n",
    "variable=Point3D(1,2,3)\n",
    "\n",
    "\n",
    "print(variable.my_point())\n",
    "    \n",
    "    \n",
    "    \n",
    "    "
   ]
  },
  {
   "cell_type": "markdown",
   "id": "49dc4567",
   "metadata": {},
   "source": [
    "# Write a Python class named Rectangle constructed by a length and width.\n",
    "#Define two methods area and perimeter which will compute the area and the perimeter of the rectangle. \n",
    "#Then create a variable named my_rectangle containing a new instance of Rectangle with width=3 and length = 4 and compute both \n",
    "#of area and perimeter ( the area is expected to be 3*4=12 and perimeter 2*(3+4)=14)\n"
   ]
  },
  {
   "cell_type": "code",
   "execution_count": 16,
   "id": "a87ce267",
   "metadata": {},
   "outputs": [
    {
     "name": "stdout",
     "output_type": "stream",
     "text": [
      "12\n",
      "14\n"
     ]
    }
   ],
   "source": [
    "class rectangle :\n",
    "    \n",
    "    def __init__(self,lenght,width):\n",
    "        self.lenght=lenght\n",
    "        self.width=width\n",
    "        \n",
    "    def area(self):\n",
    "        return self.lenght*self.width\n",
    "        \n",
    "    def perimeter(self):\n",
    "        return 2*self.lenght+2*self.width\n",
    "    \n",
    "    \n",
    "my_rectangle=rectangle(3,4)\n",
    "\n",
    "print(my_rectangle.area())\n",
    "print(my_rectangle.perimeter())\n",
    "        \n",
    "        \n",
    "        \n",
    "    "
   ]
  },
  {
   "cell_type": "markdown",
   "id": "70984c8f",
   "metadata": {},
   "source": [
    "# Write a Python  class named Circle constructed by its center O and radius r. Define two \n",
    "#methods area and perimeter which will compute the area and the perimeter of the circle, and isInside() method of the class which allows \n",
    "#to test whether a point A(x, y) belongs to the circle C(O, r) or not."
   ]
  },
  {
   "cell_type": "code",
   "execution_count": 5,
   "id": "c6199057",
   "metadata": {},
   "outputs": [
    {
     "ename": "SyntaxError",
     "evalue": "invalid syntax (Temp/ipykernel_920/3853207150.py, line 5)",
     "output_type": "error",
     "traceback": [
      "\u001b[1;36m  File \u001b[1;32m\"C:\\Users\\hp\\AppData\\Local\\Temp/ipykernel_920/3853207150.py\"\u001b[1;36m, line \u001b[1;32m5\u001b[0m\n\u001b[1;33m    self.x_cirlce=x-=x_circle\u001b[0m\n\u001b[1;37m                   ^\u001b[0m\n\u001b[1;31mSyntaxError\u001b[0m\u001b[1;31m:\u001b[0m invalid syntax\n"
     ]
    }
   ],
   "source": [
    "class circle :\n",
    "    \n",
    "    def __init__(self,x_circle,y_circle,radius):\n",
    "        self.radius=radius\n",
    "        self.x_cirlce=x-=x_circle\n",
    "        self.y_cirlce=circle\n",
    "        \n",
    "        \n",
    "    def area(self):\n",
    "        print(\"the area of my cirlce is :{}\".format(3.14*self.radius**2))\n",
    "    \n",
    "    def perimeter(self):\n",
    "        print(\"the perimeter of my circle is :{}\".format(2*3.14*self.radius))\n",
    "                        \n",
    "                        \n",
    "    def isInside(self,x,y):\n",
    "        if ((x-self.cercle)**2+(y-self.y_circle)**2<=self.radius**2):\n",
    "              return True\n",
    "        else:\n",
    "              return False\n",
    "                        \n",
    "                        \n",
    "my_circle=Circle(-6,3,11)\n",
    "\n",
    "my_circle.area()\n",
    "my_circle.perimeter()\n",
    "\n",
    "if(my_circle.isINside(-3,-3)==True):\n",
    "    print(\"this point is inside my circle \")\n",
    "\n",
    "else:\n",
    "    print(\"this point is outside my circle \")"
   ]
  },
  {
   "cell_type": "markdown",
   "id": "dd1df97f",
   "metadata": {},
   "source": [
    "# Suppose we want to model a bank account with support for deposit \n",
    "#and withdraw operations. Let’s create a python class named bank defined by its balance. \n",
    "#Define two methods deposit and withdraw to compute the new amount of each operation.\n",
    "\n"
   ]
  },
  {
   "cell_type": "code",
   "execution_count": 7,
   "id": "474cc69f",
   "metadata": {},
   "outputs": [
    {
     "name": "stdout",
     "output_type": "stream",
     "text": [
      "My mew balance after deposit is : 50000\n",
      "My new balance after withdraw is  35000\n"
     ]
    }
   ],
   "source": [
    "class bank:\n",
    "    \n",
    "    \n",
    "    def __init__(self,balance):\n",
    "        self.balance=balance\n",
    "        \n",
    "        \n",
    "    def deposit(self,deposit): #ajouter une somme \n",
    "        self.balance=self.balance+deposit\n",
    "        return deposit\n",
    "    \n",
    "    \n",
    "    def withdraw(self,withdraw): #retirer une somme \n",
    "        self.balance=self.balance-withdraw\n",
    "        return self.balance\n",
    "    \n",
    "new_balance=bank(5000)\n",
    "print(\"My mew balance after deposit is :\",new_balance.deposit(50000))\n",
    "print(\"My new balance after withdraw is \",new_balance.withdraw(20000))   "
   ]
  },
  {
   "cell_type": "code",
   "execution_count": null,
   "id": "331fd91d",
   "metadata": {},
   "outputs": [],
   "source": []
  }
 ],
 "metadata": {
  "kernelspec": {
   "display_name": "Python 3 (ipykernel)",
   "language": "python",
   "name": "python3"
  },
  "language_info": {
   "codemirror_mode": {
    "name": "ipython",
    "version": 3
   },
   "file_extension": ".py",
   "mimetype": "text/x-python",
   "name": "python",
   "nbconvert_exporter": "python",
   "pygments_lexer": "ipython3",
   "version": "3.9.7"
  }
 },
 "nbformat": 4,
 "nbformat_minor": 5
}
